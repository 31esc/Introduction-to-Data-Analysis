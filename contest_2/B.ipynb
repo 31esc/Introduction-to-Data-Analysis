{
 "cells": [
  {
   "cell_type": "code",
   "execution_count": 268,
   "id": "ddb9390c",
   "metadata": {},
   "outputs": [],
   "source": [
    "from datetime import datetime\n",
    "import numpy as np\n",
    "import pandas as pd\n",
    "import matplotlib.pyplot as plt\n",
    "import seaborn as sns\n",
    "from matplotlib.figure import Figure\n",
    "import typing as tp\n",
    "\n",
    "\n",
    "class YouTube:\n",
    "    def __init__(self, path_to_df: str = \"RUvideos_short.csv\"):\n",
    "        self.df = pd.read_csv(path_to_df)\n",
    "\n",
    "    def task1(self) -> pd.DataFrame:\n",
    "        self.df['trending_date'] = pd.to_datetime(self.df['trending_date'], format=\"%y.%d.%m\")\n",
    "        return self.df\n",
    "\n",
    "    def task2(self) -> pd.DataFrame:\n",
    "        self.df = self.df[['trending_date', 'category_id', 'views', 'likes', 'dislikes', 'comment_count']]\n",
    "        self.df['trending_date'] = self.df['trending_date'].apply(lambda x: x.day)\n",
    "        return self.df\n",
    "\n",
    "    def task3(self) -> Figure:\n",
    "        plt.figure(figsize=(9, 4))\n",
    "        sns.boxplot(data=self.df, x='trending_date', y='views') \n",
    "        plt.xlabel('Trending date')\n",
    "        plt.ylabel('Views')\n",
    "        plt.suptitle('Number of views by day')\n",
    "        return plt.gcf()\n",
    "\n",
    "    def task4(self) -> Figure:\n",
    "        plt.figure(figsize=(9, 4))\n",
    "        sns.boxplot(data=self.df, x='trending_date', y='views')\n",
    "        plt.ylim(0, 1 * 10e5)\n",
    "        plt.xlabel('Trending date')\n",
    "        plt.ylabel('Views')\n",
    "        plt.suptitle('Number of views by day')\n",
    "        return plt.gcf()\n",
    "\n",
    "    def task5(self) -> Figure:\n",
    "        sns.jointplot(x = \"views\", y = \"likes\", alpha=0.5,data = self.df)\n",
    "        plt.xlabel('Views')\n",
    "        plt.ylabel('Likes')\n",
    "        plt.suptitle('Number of likes from views')\n",
    "        return plt.gcf()\n",
    "\n",
    "    def task6(self) -> Figure:\n",
    "        d = self.df[(self.df.likes < 1000) & (self.df.views < 30000)]\n",
    "        sns.jointplot(data = d, x = \"views\", y = \"likes\", alpha=0.5)\n",
    "        plt.xlabel('Views')\n",
    "        plt.ylabel('Likes')\n",
    "        plt.suptitle('Number of likes by views')\n",
    "        return plt.gcf()"
   ]
  }
 ],
 "metadata": {
  "kernelspec": {
   "display_name": "Python 3 (ipykernel)",
   "language": "python",
   "name": "python3"
  },
  "language_info": {
   "codemirror_mode": {
    "name": "ipython",
    "version": 3
   },
   "file_extension": ".py",
   "mimetype": "text/x-python",
   "name": "python",
   "nbconvert_exporter": "python",
   "pygments_lexer": "ipython3",
   "version": "3.10.6"
  }
 },
 "nbformat": 4,
 "nbformat_minor": 5
}
